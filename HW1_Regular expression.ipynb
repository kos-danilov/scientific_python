{
 "cells": [
  {
   "cell_type": "code",
   "execution_count": 2,
   "metadata": {},
   "outputs": [],
   "source": [
    "import re"
   ]
  },
  {
   "cell_type": "code",
   "execution_count": 23,
   "metadata": {},
   "outputs": [
    {
     "name": "stdout",
     "output_type": "stream",
     "text": [
      "abs\n",
      "123njs\n",
      " knsf\n"
     ]
    }
   ],
   "source": [
    "#1 Replace all duplicated letters to one\n",
    "\n",
    "strings = [\"aaaaaaabbbbbsssss\", \"123nnjs\", \" knnsf\"]\n",
    "pattern = r\"(\\w)\\1+\"\n",
    "\n",
    "for string in strings:\n",
    "    print(re.sub(pattern, r\"\\1\", string))"
   ]
  },
  {
   "cell_type": "code",
   "execution_count": 54,
   "metadata": {},
   "outputs": [
    {
     "name": "stdout",
     "output_type": "stream",
     "text": [
      "M. musculus\n",
      "A. elegans\n",
      "F. vityazi\n",
      "C. tottoni\n"
     ]
    }
   ],
   "source": [
    "#2 \n",
    "\n",
    "strings = [\"Mus musculus\", \"Agalma elegans\", \"Frillagalma vityazi\", \"Cordagalma tottoni\"]\n",
    "pattern = r\"([A-Z])[a-z]+\"\n",
    "\n",
    "for string in strings:\n",
    "    print(re.sub(pattern, r\"\\1.\", string))"
   ]
  },
  {
   "cell_type": "code",
   "execution_count": 62,
   "metadata": {},
   "outputs": [
    {
     "name": "stdout",
     "output_type": "stream",
     "text": [
      "M.musculus Y456\n",
      "A.elegans AB34\n",
      "F.vityazi\n",
      "C.tottoni\n"
     ]
    }
   ],
   "source": [
    "#3 \n",
    "\n",
    "strings = [\"Mus musculus (Y456)\", \"Agalma elegans (AB34)\", \"Frillagalma vityazi\", \"Cordagalma tottoni\"]\n",
    "pattern_1 = r\"([A-Z])[a-z]+ \"\n",
    "pattern_2 = r\"(\\()(.*)(\\))\"\n",
    "\n",
    "for string in strings:\n",
    "    string = re.sub(pattern_1, r\"\\1.\", string)\n",
    "    print(re.sub(pattern_2, r\"\\2\", string))"
   ]
  },
  {
   "cell_type": "code",
   "execution_count": 76,
   "metadata": {},
   "outputs": [
    {
     "name": "stdout",
     "output_type": "stream",
     "text": [
      "Isocitrate lyase ASF67065.1 contains its active site KKCGHM starting from 193th position\n"
     ]
    }
   ],
   "source": [
    "# 4\n",
    "NCBI_id = \"ASF67065.1\"\n",
    "sequence = \"MKTRTQQIEELQKEWTQPRWEGITRPYSAEEVVKLRGSVNPECTLAQLGAAKMWRLLHGEAKKGYINSLGALTGGQALQQAKAGIEAIYLSGWQVAADANLASSMYPDQSLYPANSVPAVVDRINNTFRRADQIQWASGIEPNDPRYVDYFLPIVADAEAGFGGVLNAFELMKSMIEAGAAAVHFEDQLASVKKCGHMGGKVLVPTQEAIQKLVAARLAADVMGVPTLVIARTDADAADLITSDCDPYDSGFITGERTSEGFYRTHAGIEQAISRGLAYAPYADLVWCETSTPDLELARRFADAIHAKYPGKLLAYNCSPSFNWQKNLDDKTIASFQQQLSDMGYKYQFITLAGIHSMWFNMFDLAHAYAQGEGMKHYVEKVQQPEFAAAKDGYTFVSHQQEVGTGYFDKVTTIIQGGASSVTALTGSTEEAQF\"\n",
    "PROSITE_active_site = \"K-[KR]-C-G-H-[LMQR]\"\n",
    "\n",
    "template = \"Isocitrate lyase {ID} contains its active site {active_site} starting from {n}th position\"\n",
    "\n",
    "pattern = r\"K[KR]CGH[LMQR]\"\n",
    "site = re.search(pattern, sequence)\n",
    "\n",
    "print(template.format(ID = NCBI_id, active_site = site.group(), n = site.start() + 1))"
   ]
  }
 ],
 "metadata": {
  "kernelspec": {
   "display_name": "Python 3",
   "language": "python",
   "name": "python3"
  },
  "language_info": {
   "codemirror_mode": {
    "name": "ipython",
    "version": 3
   },
   "file_extension": ".py",
   "mimetype": "text/x-python",
   "name": "python",
   "nbconvert_exporter": "python",
   "pygments_lexer": "ipython3",
   "version": "3.8.3"
  }
 },
 "nbformat": 4,
 "nbformat_minor": 4
}
