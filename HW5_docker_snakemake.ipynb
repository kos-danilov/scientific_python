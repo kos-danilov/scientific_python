{
 "cells": [
  {
   "cell_type": "markdown",
   "metadata": {},
   "source": [
    "# 1"
   ]
  },
  {
   "cell_type": "code",
   "execution_count": null,
   "metadata": {},
   "outputs": [],
   "source": [
    "rule all:\n",
    "    input: \"input/input\"\n",
    "    output: \"output/output\"\n",
    "    shell: \"wc -w {input} | awk '{{print $1}}' > {output}\""
   ]
  },
  {
   "cell_type": "markdown",
   "metadata": {},
   "source": [
    "password"
   ]
  },
  {
   "cell_type": "code",
   "execution_count": null,
   "metadata": {},
   "outputs": [],
   "source": [
    "hnLft3QtJZNSNGwuCrX8BFK4gw9HOMORNqtyozlui0apa7JmsSxvuRnz8CxHlG/RyCzx2b5OCtCt3F+nlQ3G/Hc7r2yooLo3HK9lqBT9fQewUz5Pd7vLk5DYQFEf7vf0aO8nAeh+8ZvdvDvtRA2eE//WO9rmMldy7MoEw2HxZLU+LenAi4mBn93mAEnXFjxPXnpWSswwaV5swlR0kja1ipLVg6N+snaqKLCosWiMotW571tuZXy2zuq2wzH1XwiNTCNu6hsQzSOt/t1KWLX+5UiUtCUQ6TMpHZIfqWu9uBZrQZAFcbFFmeHwl9DRFz1FYcE5pzJF4VVO78uxEGPMeA=="
   ]
  },
  {
   "cell_type": "markdown",
   "metadata": {},
   "source": [
    "# 2"
   ]
  },
  {
   "cell_type": "code",
   "execution_count": null,
   "metadata": {},
   "outputs": [],
   "source": [
    "import collections\n",
    "\n",
    "IDS, = glob_wildcards('input/{file,\\w+}')\n",
    "\n",
    "rule all:\n",
    "    input: expand('output/{file}', file=IDS)\n",
    "    output: touch('.status')\n",
    "\n",
    "rule count:\n",
    "    input: 'input/{file}'\n",
    "    output: 'output/{file}'\n",
    "    run:\n",
    "        f = open(str(input))\n",
    "        string = f.read().lower().replace(' ', '').replace('.', '').replace('\\n', '')\n",
    "        dic = {}\n",
    "        for i in string:\n",
    "            if i in dic:\n",
    "                dic[i] += 1\n",
    "            else:\n",
    "                dic[i] = 1\n",
    "        odic = collections.OrderedDict(sorted(dic.items()))\n",
    "        with open(str(output), \"w\") as f:\n",
    "            for key, value in odic.items():\n",
    "                result = str(key) + \": \" + str(value) + \"\\n\"\n",
    "                f.write(result)\n",
    "        f.close()"
   ]
  },
  {
   "cell_type": "markdown",
   "metadata": {},
   "source": [
    "password"
   ]
  },
  {
   "cell_type": "code",
   "execution_count": null,
   "metadata": {},
   "outputs": [],
   "source": [
    "NnRqDaVgokjGahMG+0F9MgRVWnUvD9L5fWSWHu43tzAjtU85wTgVjiwZcNGaTD5ILCP600sAgVaB0vSiMEnRVd/v/RvB57xk+gA8uRk3VFZXD7o8zeBcxVmQ0sYFpmpIpI6K/EYyb6pAHZx/j9iM/GpLBZY4AFPLA0DVedIAksREeENGbwKtch0UlgZ/sePqAWkv8tPUUSRtNEX7Gd/xcz3BHyI67IZ36+jYeSgTyoYOBmBGrHxS/PUE6qEYpnb2rFoIvoxlW5sp+FvnqS+sKIF2zPwqr5YlYJdHXmpSYmCDn2pT5cquVqpA4XafQmgnDkclzhKoCGcSv3ncA/fQ1g=="
   ]
  }
 ],
 "metadata": {
  "kernelspec": {
   "display_name": "Python 3",
   "language": "python",
   "name": "python3"
  },
  "language_info": {
   "codemirror_mode": {
    "name": "ipython",
    "version": 3
   },
   "file_extension": ".py",
   "mimetype": "text/x-python",
   "name": "python",
   "nbconvert_exporter": "python",
   "pygments_lexer": "ipython3",
   "version": "3.8.3"
  }
 },
 "nbformat": 4,
 "nbformat_minor": 4
}
