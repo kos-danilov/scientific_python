{
 "cells": [
  {
   "cell_type": "code",
   "execution_count": 4,
   "metadata": {},
   "outputs": [],
   "source": [
    "# 1\n",
    "'''\n",
    "Let's remeber how to use dictionaries.\n",
    "Task: return a dictionary where \n",
    "    * keys are IDs of seqs from an input fasta file (prot.fasta),\n",
    "    * key's values are seqs itself. \n",
    "'''\n",
    "\n",
    "def my_own_fasta_parser(inFile):\n",
    "\n",
    "    sequences = {}\n",
    "    seq_id = \"\"\n",
    "    \n",
    "    with open(inFile) as f:\n",
    "        for line in f:\n",
    "            line = line.strip()\n",
    "            if line[0] == \">\":\n",
    "                seq_id = line[1:]\n",
    "            else:\n",
    "                sequences[seq_id] = line\n",
    "    return sequences"
   ]
  },
  {
   "cell_type": "code",
   "execution_count": 9,
   "metadata": {},
   "outputs": [
    {
     "data": {
      "text/plain": [
       "{'seq0': 'FQTWEEFSRAAEKLYLADPMKVRVVLKYRHVDGNLCIKVTDDLVCLVYRTDQAQDVKKIEKF',\n",
       " 'seq1': 'KYRTWEEFTRAAEKLYQADPMKVRVVLKYRHCDGNLCIKVTDDVVCLLYRTDQAQDVKKIEKFHSQLMRLME LKVTDNKECLKFKTDQAQEAKKMEKLNNIFFTLM',\n",
       " 'seq2': 'EEYQTWEEFARAAEKLYLTDPMKVRVVLKYRHCDGNLCMKVTDDAVCLQYKTDQAQDVKKVEKLHGK',\n",
       " 'seq3': 'MYQVWEEFSRAVEKLYLTDPMKVRVVLKYRHCDGNLCIKVTDNSVCLQYKTDQAQDVK',\n",
       " 'seq4': 'EEFSRAVEKLYLTDPMKVRVVLKYRHCDGNLCIKVTDNSVVSYEMRLFGVQKDNFALEHSLL',\n",
       " 'seq5': 'SWEEFAKAAEVLYLEDPMKCRMCTKYRHVDHKLVVKLTDNHTVLKYVTDMAQDVKKIEKLTTLLMR',\n",
       " 'seq6': 'FTNWEEFAKAAERLHSANPEKCRFVTKYNHTKGELVLKLTDDVVCLQYSTNQLQDVKKLEKLSSTLLRSI',\n",
       " 'seq7': 'SWEEFVERSVQLFRGDPNATRYVMKYRHCEGKLVLKVTDDRECLKFKTDQAQDAKKMEKLNNIFF',\n",
       " 'seq8': 'SWDEFVDRSVQLFRADPESTRYVMKYRHCDGKLVLKVTDNKECLKFKTDQAQEAKKMEKLNNIFFTLM',\n",
       " 'seq9': 'KNWEDFEIAAENMYMANPQNCRYTMKYVHSKGHILLKMSDNVKCVQYRAENMPDLKK',\n",
       " 'seq10': 'FDSWDEFVSKSVELFRNHPDTTRYVVKYRHCEGKLVLKVTDNHECLKFKTDQAQDAKKMEK'}"
      ]
     },
     "execution_count": 9,
     "metadata": {},
     "output_type": "execute_result"
    }
   ],
   "source": [
    "my_own_fasta_parser(\"prot.fasta\")"
   ]
  },
  {
   "cell_type": "code",
   "execution_count": 14,
   "metadata": {},
   "outputs": [],
   "source": [
    "# 2\n",
    "'''\n",
    "Another super easy task.\n",
    "\n",
    "We have the same fasta file (prot.fasta).\n",
    "Now we want to get a list with the ids of protein seqs that have \n",
    "a relative frequency higher than a given threshold for a given residue.\n",
    "\n",
    "And don't forget to use my_own_fasta_parser function from a previous task!\n",
    "'''\n",
    "\n",
    "def my_own_residue_abundance(input_file, residue, threshold=0.2):\n",
    "    \n",
    "    seq_ids = []\n",
    "    sequences = my_own_fasta_parser(input_file)\n",
    "\n",
    "    for seq_id, sequence in sequences.items():\n",
    "        if sequence.count(residue)/len(sequence) > threshold:\n",
    "            seq_ids.append(seq_id)\n",
    "\n",
    "    return seq_ids"
   ]
  },
  {
   "cell_type": "code",
   "execution_count": 25,
   "metadata": {},
   "outputs": [
    {
     "data": {
      "text/plain": [
       "['seq1', 'seq4', 'seq5', 'seq6']"
      ]
     },
     "execution_count": 25,
     "metadata": {},
     "output_type": "execute_result"
    }
   ],
   "source": [
    "my_own_residue_abundance(\"prot.fasta\", \"L\", threshold=0.1)"
   ]
  },
  {
   "cell_type": "code",
   "execution_count": 74,
   "metadata": {},
   "outputs": [],
   "source": [
    "# 3\n",
    "'''\n",
    "Let's practice in Bio package using.\n",
    "Task:\n",
    "1. read fasta file containing several DNA seqs (nucl.fasta)\n",
    "2. subset seqs that have GC content > 45 and coding protein with aromaticity > 0.01\n",
    "3. write a new fasta file with those protein(!) seqs\n",
    "4. return the percentage of seqs that passed your filter\n",
    "Hint: Bio.SeqIO, Bio.SeqRecord, Bio.SeqUtils\n",
    "'''\n",
    "\n",
    "from Bio import SeqIO\n",
    "from Bio import SeqRecord\n",
    "from Bio.SeqUtils.ProtParam import ProteinAnalysis\n",
    "\n",
    "def my_own_filtering(input_file, output_file, filt_gc=45, filt_arom=0.125):\n",
    "    \n",
    "    sequences = {}\n",
    "    c = 0\n",
    "    records = []\n",
    "    \n",
    "    with open(input_file, \"r\") as content:\n",
    "        \n",
    "        for record in SeqIO.parse(content, \"fasta\"):\n",
    "            c+=1\n",
    "            # calculating GC\n",
    "            calc_gc = SeqUtils.GC(record.seq)\n",
    "            # calculating aomaticity\n",
    "            prot = record.translate()\n",
    "            x = ProteinAnalysis(str(prot.seq))\n",
    "            calc_arom = x.aromaticity()\n",
    "            \n",
    "            # filtering\n",
    "            if calc_gc > filt_gc and calc_arom > filt_arom:\n",
    "                records.append(record)\n",
    "                \n",
    "    SeqIO.write(records, output_file, \"fasta\")\n",
    "    return len(records)*100/c\n",
    "    \n"
   ]
  },
  {
   "cell_type": "code",
   "execution_count": 75,
   "metadata": {},
   "outputs": [
    {
     "data": {
      "text/plain": [
       "28.571428571428573"
      ]
     },
     "execution_count": 75,
     "metadata": {},
     "output_type": "execute_result"
    }
   ],
   "source": [
    "my_own_filtering(\"nucl.fasta\", \"new.fasta\", filt_arom=0.01)"
   ]
  },
  {
   "cell_type": "code",
   "execution_count": 76,
   "metadata": {},
   "outputs": [
    {
     "name": "stdout",
     "output_type": "stream",
     "text": [
      "HW4 Bio.ipynb  new.fasta      nucl.fasta     prot.fasta\r\n"
     ]
    }
   ],
   "source": [
    "ls"
   ]
  },
  {
   "cell_type": "code",
   "execution_count": 81,
   "metadata": {},
   "outputs": [
    {
     "name": "stdout",
     "output_type": "stream",
     "text": [
      ">id5\r\n",
      "ATTAGCTTTGCTAGGCCAAGGCATG\r\n",
      ">id6\r\n",
      "GCGCGTTTTTAGCGTACCAATGCCGCAA\r\n"
     ]
    }
   ],
   "source": [
    "!head new.fasta"
   ]
  },
  {
   "cell_type": "code",
   "execution_count": 119,
   "metadata": {},
   "outputs": [],
   "source": [
    "# 4\n",
    "\"\"\"\n",
    "Continue practicing in Bio package using:\n",
    "Task:\n",
    "complete the following code that should be able to return \n",
    "the best alignment of two amino acid seqs (pairwise2.align.globalds)\n",
    "based on BLOSUM62 matrix from Bio.SubsMat.MatrixInfo.\n",
    "http://rosalind.info/glossary/blosum62/\n",
    "\"\"\"\n",
    "\n",
    "from Bio import pairwise2\n",
    "from Bio.SubsMat import MatrixInfo\n",
    "\n",
    "\n",
    "def balign(first_seq, second_seq, MatrixInfo):\n",
    "\n",
    "    # Load the matrix\n",
    "    matrix = MatrixInfo.blosum62\n",
    "\n",
    "    # Generate the alignments\n",
    "    alns = pairwise2.align.globalds(first_seq, second_seq, matrix, -10, -1)\n",
    "\n",
    "    # Extract the best alignment (first one in the alns list)\n",
    "    top_aln = alns[0]\n",
    "\n",
    "    # Print the alignment, ...\n",
    "    aln_A, aln_B, score, begin, end = top_aln\n",
    "    print(pairwise2.format_alignment(aln_A, aln_B, score, begin, end))"
   ]
  },
  {
   "cell_type": "code",
   "execution_count": 121,
   "metadata": {},
   "outputs": [
    {
     "name": "stdout",
     "output_type": "stream",
     "text": [
      "ACAAACT\n",
      "    |.|\n",
      "----AAT\n",
      "  Score=-4\n",
      "\n"
     ]
    }
   ],
   "source": [
    "balign(\"ACAAACT\", \"AAT\", MatrixInfo)"
   ]
  },
  {
   "cell_type": "code",
   "execution_count": 146,
   "metadata": {},
   "outputs": [],
   "source": [
    "# 5\n",
    "\"\"\" You have some DNA sequence: AGTACTAGAGCATTCTATGGAG.\n",
    "Find out which peptides could be created from it and sort them by their length.\n",
    "Use as much Biopython modules as possible.\n",
    "\"\"\"\n",
    "\n",
    "def get_peptides(dna):\n",
    "    peptides = []\n",
    "    \n",
    "    for i in range(len(dna)):\n",
    "        sequence = Seq(dna[i:]).transcribe().translate(to_stop=True)\n",
    "        \n",
    "        if len(sequence) > 1:\n",
    "            peptides.append(str(sequence))\n",
    "    \n",
    "    peptides.sort(key = len)\n",
    "    return peptides[::-1]\n"
   ]
  },
  {
   "cell_type": "code",
   "execution_count": 147,
   "metadata": {},
   "outputs": [
    {
     "data": {
      "text/plain": [
       "['VLEHSME',\n",
       " 'STRAFYG',\n",
       " 'LEHSME',\n",
       " 'TRAFYG',\n",
       " 'EHSME',\n",
       " 'RAFYG',\n",
       " 'HSME',\n",
       " 'AFYG',\n",
       " 'SILW',\n",
       " 'SME',\n",
       " 'FYG',\n",
       " 'ILW',\n",
       " 'ME',\n",
       " 'YG',\n",
       " 'LW']"
      ]
     },
     "execution_count": 147,
     "metadata": {},
     "output_type": "execute_result"
    }
   ],
   "source": [
    "get_peptides(\"AGTACTAGAGCATTCTATGGAG\")"
   ]
  },
  {
   "cell_type": "code",
   "execution_count": 2,
   "metadata": {},
   "outputs": [],
   "source": [
    "# 6\n",
    "\"\"\" TASK: Try to create one-line function (without (!!!) using Bio package) \n",
    "that returns reverse complementary to a given sequence. \n",
    "Hint: using dictionaty & list comprehensions might be helpful.\n",
    "\"\"\"\n",
    "\n",
    "def rev_compl_one_line(seq):\n",
    "    return \"\".join([{\"A\":\"T\", \"T\":\"A\", \"G\":\"C\", \"C\":\"G\"}[x] for x in seq[::-1].upper()])"
   ]
  },
  {
   "cell_type": "code",
   "execution_count": 3,
   "metadata": {},
   "outputs": [
    {
     "data": {
      "text/plain": [
       "'CTCCATAGAATGCTCTAGTACT'"
      ]
     },
     "execution_count": 3,
     "metadata": {},
     "output_type": "execute_result"
    }
   ],
   "source": [
    "rev_compl_one_line(\"AGTACTAGAGCATTCTATGGAG\")"
   ]
  }
 ],
 "metadata": {
  "kernelspec": {
   "display_name": "Python 3",
   "language": "python",
   "name": "python3"
  },
  "language_info": {
   "codemirror_mode": {
    "name": "ipython",
    "version": 3
   },
   "file_extension": ".py",
   "mimetype": "text/x-python",
   "name": "python",
   "nbconvert_exporter": "python",
   "pygments_lexer": "ipython3",
   "version": "3.8.3"
  }
 },
 "nbformat": 4,
 "nbformat_minor": 2
}
