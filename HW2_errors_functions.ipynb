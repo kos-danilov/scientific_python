{
 "cells": [
  {
   "cell_type": "markdown",
   "metadata": {},
   "source": [
    "# import "
   ]
  },
  {
   "cell_type": "code",
   "execution_count": 2,
   "metadata": {},
   "outputs": [],
   "source": []
  },
  {
   "cell_type": "markdown",
   "metadata": {},
   "source": [
    "# data"
   ]
  },
  {
   "cell_type": "code",
   "execution_count": null,
   "metadata": {},
   "outputs": [],
   "source": []
  },
  {
   "cell_type": "markdown",
   "metadata": {},
   "source": [
    "# functions"
   ]
  },
  {
   "cell_type": "code",
   "execution_count": 83,
   "metadata": {},
   "outputs": [],
   "source": [
    "def get_prob():\n",
    "    n, gc = map(float, input().split())\n",
    "    sequence = input()\n",
    "    \n",
    "    # prob to get same string\n",
    "    prob = 1\n",
    "    for i in sequence:\n",
    "        if i == \"A\" or i == \"T\":\n",
    "            prob *= (1 - gc)/2\n",
    "        else:\n",
    "            prob *= gc/2\n",
    "    \n",
    "    # prob not to get same string\n",
    "    prob = 1 - prob\n",
    "    # prob to get at least one same string with n repetitions (prob**n - prob not to get at least one same string with n repetitions)\n",
    "    prob = 1 - prob**n\n",
    "    \n",
    "    return prob"
   ]
  },
  {
   "cell_type": "markdown",
   "metadata": {},
   "source": [
    "# run"
   ]
  },
  {
   "cell_type": "code",
   "execution_count": 85,
   "metadata": {},
   "outputs": [
    {
     "name": "stdout",
     "output_type": "stream",
     "text": [
      "90000 0.6\n",
      "ATAGCCGA\n"
     ]
    },
    {
     "data": {
      "text/plain": [
       "0.6885160784606543"
      ]
     },
     "execution_count": 85,
     "metadata": {},
     "output_type": "execute_result"
    }
   ],
   "source": [
    "get_prob()"
   ]
  }
 ],
 "metadata": {
  "kernelspec": {
   "display_name": "Python 3",
   "language": "python",
   "name": "python3"
  },
  "language_info": {
   "codemirror_mode": {
    "name": "ipython",
    "version": 3
   },
   "file_extension": ".py",
   "mimetype": "text/x-python",
   "name": "python",
   "nbconvert_exporter": "python",
   "pygments_lexer": "ipython3",
   "version": "3.8.3"
  }
 },
 "nbformat": 4,
 "nbformat_minor": 4
}
