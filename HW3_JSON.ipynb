{
 "cells": [
  {
   "cell_type": "markdown",
   "metadata": {},
   "source": [
    "# Import"
   ]
  },
  {
   "cell_type": "code",
   "execution_count": 3,
   "metadata": {},
   "outputs": [],
   "source": [
    "import json"
   ]
  },
  {
   "cell_type": "markdown",
   "metadata": {},
   "source": [
    "# Function"
   ]
  },
  {
   "cell_type": "code",
   "execution_count": 1,
   "metadata": {},
   "outputs": [],
   "source": [
    "def dfs(graph, start):\n",
    "    visited, stack = set(), [start]\n",
    "    while stack:\n",
    "        vertex = stack.pop()\n",
    "        if vertex not in visited:\n",
    "            visited.add(vertex)\n",
    "            stack.extend(set(graph[vertex]) - set(visited))\n",
    "    return visited\n",
    "\n",
    "def calculate_json():\n",
    "    # to python equivalent \n",
    "    a = json.loads(input())\n",
    "    new_dic = {}\n",
    "\n",
    "    # to parent-children graph\n",
    "    for i in a:\n",
    "        if i['name'] not in new_dic:\n",
    "            new_dic[i['name']] = list()\n",
    "        for j in i['parents']:\n",
    "            if j not in new_dic:\n",
    "                new_dic[j] = list(i['name'])\n",
    "            else:\n",
    "                if i['name'] not in new_dic[j]:\n",
    "                    new_dic[j].append(i['name'])\n",
    "\n",
    "    # calculating answer\n",
    "    result = []\n",
    "    for key, value in new_dic.items():\n",
    "        result.append([key, len(dfs(new_dic, key))])\n",
    "    result.sort()\n",
    "\n",
    "    # print results\n",
    "    for i in result:\n",
    "        print(i[0], i[1], sep = \" : \")"
   ]
  },
  {
   "cell_type": "markdown",
   "metadata": {},
   "source": [
    "# Test"
   ]
  },
  {
   "cell_type": "code",
   "execution_count": 4,
   "metadata": {},
   "outputs": [
    {
     "name": "stdout",
     "output_type": "stream",
     "text": [
      "[{\"name\": \"A\", \"parents\": []}, {\"name\": \"B\", \"parents\": [\"A\", \"C\"]}, {\"name\": \"C\", \"parents\": [\"A\"]}]\n",
      "A : 3\n",
      "B : 1\n",
      "C : 2\n"
     ]
    }
   ],
   "source": [
    "calculate_json()"
   ]
  },
  {
   "cell_type": "code",
   "execution_count": 5,
   "metadata": {},
   "outputs": [
    {
     "name": "stdout",
     "output_type": "stream",
     "text": [
      "[{\"name\": \"B\", \"parents\": [\"A\", \"C\"]}, {\"name\": \"C\", \"parents\": [\"A\"]}, {\"name\": \"A\", \"parents\": []}, {\"name\": \"D\", \"parents\":[\"C\", \"F\"]}, {\"name\": \"E\", \"parents\":[\"D\"]}, {\"name\": \"F\", \"parents\":[]}]\n",
      "A : 5\n",
      "B : 1\n",
      "C : 4\n",
      "D : 2\n",
      "E : 1\n",
      "F : 3\n"
     ]
    }
   ],
   "source": [
    "calculate_json()"
   ]
  }
 ],
 "metadata": {
  "kernelspec": {
   "display_name": "Python 3",
   "language": "python",
   "name": "python3"
  },
  "language_info": {
   "codemirror_mode": {
    "name": "ipython",
    "version": 3
   },
   "file_extension": ".py",
   "mimetype": "text/x-python",
   "name": "python",
   "nbconvert_exporter": "python",
   "pygments_lexer": "ipython3",
   "version": "3.8.3"
  }
 },
 "nbformat": 4,
 "nbformat_minor": 4
}
